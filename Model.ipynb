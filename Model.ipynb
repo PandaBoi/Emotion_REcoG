{
  "nbformat": 4,
  "nbformat_minor": 0,
  "metadata": {
    "kernelspec": {
      "name": "python3",
      "display_name": "Python 3"
    },
    "language_info": {
      "codemirror_mode": {
        "name": "ipython",
        "version": 3
      },
      "file_extension": ".py",
      "mimetype": "text/x-python",
      "name": "python",
      "nbconvert_exporter": "python",
      "pygments_lexer": "ipython3",
      "version": "3.6.5"
    },
    "colab": {
      "name": "Model.ipynb",
      "provenance": [],
      "collapsed_sections": []
    },
    "accelerator": "GPU"
  },
  "cells": [
    {
      "cell_type": "code",
      "metadata": {
        "id": "IYkoE2NK_6Dp",
        "colab_type": "code",
        "outputId": "747dabb6-01b9-4478-a9bb-1bc1106d364a",
        "colab": {
          "base_uri": "https://localhost:8080/",
          "height": 34
        }
      },
      "source": [
        "import torch\n",
        "import torch.nn as nn\n",
        "import torch.optim as optim\n",
        "import numpy as np\n",
        "import torchvision\n",
        "from sklearn.model_selection import train_test_split\n",
        "from torchvision import datasets, models, transforms\n",
        "from torch.utils.data import Dataset, DataLoader,random_split\n",
        "from torch.utils.data.sampler import SubsetRandomSampler\n",
        "import time\n",
        "import os\n",
        "from PIL import Image\n",
        "import glob\n",
        "import cv2\n",
        "from sklearn.preprocessing import LabelBinarizer\n",
        "import pickle\n",
        "\n",
        "\n",
        "use_gpu = torch.cuda.is_available()\n",
        "if use_gpu:\n",
        "    print(\"Using CUDA\")\n",
        "    \n",
        "device = torch.device(\"cuda:0\" if torch.cuda.is_available() else \"cpu\")"
      ],
      "execution_count": 0,
      "outputs": [
        {
          "output_type": "stream",
          "text": [
            "Using CUDA\n"
          ],
          "name": "stdout"
        }
      ]
    },
    {
      "cell_type": "code",
      "metadata": {
        "id": "r3Oqm9SqrFnp",
        "colab_type": "code",
        "colab": {}
      },
      "source": [
        "!ln -sf /opt/bin/nvidia-smi /usr/bin/nvidia-smi\n",
        "!pip install gputil\n",
        "!pip install psutil\n",
        "!pip install humanize\n",
        "import psutil\n",
        "import humanize\n",
        "import os\n",
        "import GPUtil as GPU\n",
        "GPUs = GPU.getGPUs()\n",
        "# XXX: only one GPU on Colab and isn’t guaranteed\n",
        "gpu = GPUs[0]\n",
        "def printm():\n",
        " process = psutil.Process(os.getpid())\n",
        " print(\"Gen RAM Free: \" + humanize.naturalsize( psutil.virtual_memory().available ), \" | Proc size: \" + humanize.naturalsize( process.memory_info().rss))\n",
        " print(\"GPU RAM Free: {0:.0f}MB | Used: {1:.0f}MB | Util {2:3.0f}% | Total {3:.0f}MB\".format(gpu.memoryFree, gpu.memoryUsed, gpu.memoryUtil*100, gpu.memoryTotal))\n",
        "printm()"
      ],
      "execution_count": 0,
      "outputs": []
    },
    {
      "cell_type": "code",
      "metadata": {
        "id": "BYxbebexICj7",
        "colab_type": "code",
        "outputId": "2429bccc-ea49-489a-ff2b-850ca5ffd13e",
        "colab": {
          "base_uri": "https://localhost:8080/",
          "height": 125
        }
      },
      "source": [
        "from google.colab import drive\n",
        "drive.mount('/content/gdrive')\n"
      ],
      "execution_count": 0,
      "outputs": [
        {
          "output_type": "stream",
          "text": [
            "Go to this URL in a browser: https://accounts.google.com/o/oauth2/auth?client_id=947318989803-6bn6qk8qdgf4n4g3pfee6491hc0brc4i.apps.googleusercontent.com&redirect_uri=urn%3Aietf%3Awg%3Aoauth%3A2.0%3Aoob&scope=email%20https%3A%2F%2Fwww.googleapis.com%2Fauth%2Fdocs.test%20https%3A%2F%2Fwww.googleapis.com%2Fauth%2Fdrive%20https%3A%2F%2Fwww.googleapis.com%2Fauth%2Fdrive.photos.readonly%20https%3A%2F%2Fwww.googleapis.com%2Fauth%2Fpeopleapi.readonly&response_type=code\n",
            "\n",
            "Enter your authorization code:\n",
            "··········\n",
            "Mounted at /content/gdrive\n"
          ],
          "name": "stdout"
        }
      ]
    },
    {
      "cell_type": "code",
      "metadata": {
        "id": "LMRHqNxDJrS-",
        "colab_type": "code",
        "outputId": "caf554de-3882-48db-d38d-98ff7d2f211a",
        "colab": {
          "base_uri": "https://localhost:8080/",
          "height": 34
        }
      },
      "source": [
        "!ls \"/content/gdrive/My Drive\""
      ],
      "execution_count": 0,
      "outputs": [
        {
          "output_type": "stream",
          "text": [
            "ls: cannot access '/content/gdrive/My Drive': No such file or directory\n"
          ],
          "name": "stdout"
        }
      ]
    },
    {
      "cell_type": "code",
      "metadata": {
        "id": "-KzE2ZWFc1cB",
        "colab_type": "code",
        "colab": {}
      },
      "source": [
        "!unzip '/content/gdrive/My Drive/test.zip' -d '/content/gdrive/My Drive/daataa'"
      ],
      "execution_count": 0,
      "outputs": []
    },
    {
      "cell_type": "code",
      "metadata": {
        "id": "PNBeqsXs_6D8",
        "colab_type": "code",
        "colab": {}
      },
      "source": [
        "\n",
        "#VGG takes imgs in 224 *224 size\n",
        "train_transform = transforms.Compose([transforms.RandomRotation(10),\n",
        "                                      transforms.RandomHorizontalFlip(),\n",
        "                                      transforms.Resize(224),\n",
        "                                      transforms.ToTensor(),                                      \n",
        "                                      transforms.Normalize(mean=[0.485, 0.456, 0.406], \\\n",
        "                                                           std=[.229, 0.224, 0.225])])\n",
        "\n",
        "test_transform = transforms.Compose([transforms.Resize(224),\n",
        "                                     transforms.ToTensor(),\n",
        "                                     transforms.Normalize(mean=[0.485, 0.456, 0.406], \\\n",
        "                                                           std=[.229, 0.224, 0.225])])\n"
      ],
      "execution_count": 0,
      "outputs": []
    },
    {
      "cell_type": "code",
      "metadata": {
        "id": "2gKcZof7irDT",
        "colab_type": "code",
        "colab": {}
      },
      "source": [
        "\n",
        "os.chdir('/content/gdrive/My Drive/daataa')"
      ],
      "execution_count": 0,
      "outputs": []
    },
    {
      "cell_type": "code",
      "metadata": {
        "id": "NRaPKUcA_6ED",
        "colab_type": "code",
        "outputId": "f6ee1900-d731-460a-a36a-db1bee451bef",
        "colab": {
          "base_uri": "https://localhost:8080/",
          "height": 34
        }
      },
      "source": [
        "from copy import copy\n",
        "shuffle_dataset = True\n",
        "random_seed = 55\n",
        "validation_split = 0.1\n",
        "test_split = 0.2\n",
        "\n",
        "IMG_PATH = os.getcwd() + '/test'\n",
        "total_dataset = datasets.ImageFolder(IMG_PATH,transform=train_transform)\n",
        "# try_load = DataLoader(try_dataset,shuffle=True,num_workers=0,batch_size=1)\n",
        "        \n",
        "len_tot = total_dataset.__len__()\n",
        "test_len = int(len_tot * test_split)\n",
        "\n",
        "train_data , test_data = random_split(total_dataset,[len_tot - test_len,test_len])\n",
        "train_data , valid_data = random_split(train_data,[train_data.__len__() - test_len , test_len ])\n",
        "\n",
        "train_data.dataset.transform = train_transform\n",
        "valid_data.dataset.transform = test_transform\n",
        "test_data.dataset.transform = test_transform\n",
        "\n",
        "train_data.__len__()\n"
      ],
      "execution_count": 0,
      "outputs": [
        {
          "output_type": "execute_result",
          "data": {
            "text/plain": [
              "21660"
            ]
          },
          "metadata": {
            "tags": []
          },
          "execution_count": 5
        }
      ]
    },
    {
      "cell_type": "code",
      "metadata": {
        "id": "_FoytAfm_6ET",
        "colab_type": "code",
        "colab": {}
      },
      "source": [
        "#creating datsets and dataloaders\n",
        "\n",
        "batch_size = 40\n",
        "\n",
        "# train_sampler = SubsetRandomSampler(train_indices)\n",
        "# test_sampler = SubsetRandomSampler(test_indices)\n",
        "# valid_sampler = SubsetRandomSampler(valid_indices)\n",
        "\n",
        "train_load = DataLoader(train_data, batch_size=batch_size,num_workers=12)\n",
        "valid_load = DataLoader(valid_data, batch_size=batch_size,num_workers=10)\n",
        "test_load = DataLoader(test_data, batch_size=batch_size,num_workers=10)\n",
        "\n",
        "# a,b =  next(iter(train_load))\n",
        "\n",
        "\n"
      ],
      "execution_count": 0,
      "outputs": []
    },
    {
      "cell_type": "code",
      "metadata": {
        "id": "6EpGMWQ__6Eb",
        "colab_type": "code",
        "outputId": "63609a22-3dcb-4a10-d320-37cc8bca14d5",
        "colab": {
          "base_uri": "https://localhost:8080/",
          "height": 34
        }
      },
      "source": [
        "#This is used to one hot encode the labels during training - NOT NEEDED\n",
        "# idx = b\n",
        "# idx.unsqueeze(1)\n",
        "def encode(arr):\n",
        "    \n",
        "    return torch.zeros(len(arr), arr.max()+1).scatter_(1, arr.unsqueeze(1), 1.)\n",
        "\n",
        "    \n",
        "class_names = total_dataset.classes\n",
        "class_names"
      ],
      "execution_count": 0,
      "outputs": [
        {
          "output_type": "execute_result",
          "data": {
            "text/plain": [
              "['ANGRY', 'DISGUST', 'FEAR', 'HAPPY', 'NEUTRAL', 'SAD', 'SURPRISE']"
            ]
          },
          "metadata": {
            "tags": []
          },
          "execution_count": 7
        }
      ]
    },
    {
      "cell_type": "code",
      "metadata": {
        "id": "ILBsQQiJ_6Eg",
        "colab_type": "code",
        "outputId": "d2af1aa3-b221-4ae2-e79c-1a6b5757e2ec",
        "colab": {
          "base_uri": "https://localhost:8080/",
          "height": 1000
        }
      },
      "source": [
        "#load VGG16_bn model - this one finally worked\n",
        "model = models.vgg16_bn(pretrained=True)\n",
        "\n",
        "#freezing the weights\n",
        "for param in model.parameters():\n",
        "    param.requires_grad = False\n",
        "\n",
        "#modifying the last layer\n",
        "num_in = model.classifier[6].in_features\n",
        "features = list(model.classifier.children())[:-1] # take all but last layer\n",
        "features.extend([nn.Linear(num_in,len(class_names))])#custom last layer\n",
        "model.classifier = nn.Sequential(*features)# attaching it back to classifier\n",
        "\n",
        "model.to(device)\n",
        "\n"
      ],
      "execution_count": 0,
      "outputs": [
        {
          "output_type": "stream",
          "text": [
            "Downloading: \"https://download.pytorch.org/models/vgg16_bn-6c64b313.pth\" to /root/.cache/torch/checkpoints/vgg16_bn-6c64b313.pth\n",
            "100%|██████████| 553507836/553507836 [00:06<00:00, 91490507.27it/s] \n"
          ],
          "name": "stderr"
        },
        {
          "output_type": "execute_result",
          "data": {
            "text/plain": [
              "VGG(\n",
              "  (features): Sequential(\n",
              "    (0): Conv2d(3, 64, kernel_size=(3, 3), stride=(1, 1), padding=(1, 1))\n",
              "    (1): BatchNorm2d(64, eps=1e-05, momentum=0.1, affine=True, track_running_stats=True)\n",
              "    (2): ReLU(inplace)\n",
              "    (3): Conv2d(64, 64, kernel_size=(3, 3), stride=(1, 1), padding=(1, 1))\n",
              "    (4): BatchNorm2d(64, eps=1e-05, momentum=0.1, affine=True, track_running_stats=True)\n",
              "    (5): ReLU(inplace)\n",
              "    (6): MaxPool2d(kernel_size=2, stride=2, padding=0, dilation=1, ceil_mode=False)\n",
              "    (7): Conv2d(64, 128, kernel_size=(3, 3), stride=(1, 1), padding=(1, 1))\n",
              "    (8): BatchNorm2d(128, eps=1e-05, momentum=0.1, affine=True, track_running_stats=True)\n",
              "    (9): ReLU(inplace)\n",
              "    (10): Conv2d(128, 128, kernel_size=(3, 3), stride=(1, 1), padding=(1, 1))\n",
              "    (11): BatchNorm2d(128, eps=1e-05, momentum=0.1, affine=True, track_running_stats=True)\n",
              "    (12): ReLU(inplace)\n",
              "    (13): MaxPool2d(kernel_size=2, stride=2, padding=0, dilation=1, ceil_mode=False)\n",
              "    (14): Conv2d(128, 256, kernel_size=(3, 3), stride=(1, 1), padding=(1, 1))\n",
              "    (15): BatchNorm2d(256, eps=1e-05, momentum=0.1, affine=True, track_running_stats=True)\n",
              "    (16): ReLU(inplace)\n",
              "    (17): Conv2d(256, 256, kernel_size=(3, 3), stride=(1, 1), padding=(1, 1))\n",
              "    (18): BatchNorm2d(256, eps=1e-05, momentum=0.1, affine=True, track_running_stats=True)\n",
              "    (19): ReLU(inplace)\n",
              "    (20): Conv2d(256, 256, kernel_size=(3, 3), stride=(1, 1), padding=(1, 1))\n",
              "    (21): BatchNorm2d(256, eps=1e-05, momentum=0.1, affine=True, track_running_stats=True)\n",
              "    (22): ReLU(inplace)\n",
              "    (23): MaxPool2d(kernel_size=2, stride=2, padding=0, dilation=1, ceil_mode=False)\n",
              "    (24): Conv2d(256, 512, kernel_size=(3, 3), stride=(1, 1), padding=(1, 1))\n",
              "    (25): BatchNorm2d(512, eps=1e-05, momentum=0.1, affine=True, track_running_stats=True)\n",
              "    (26): ReLU(inplace)\n",
              "    (27): Conv2d(512, 512, kernel_size=(3, 3), stride=(1, 1), padding=(1, 1))\n",
              "    (28): BatchNorm2d(512, eps=1e-05, momentum=0.1, affine=True, track_running_stats=True)\n",
              "    (29): ReLU(inplace)\n",
              "    (30): Conv2d(512, 512, kernel_size=(3, 3), stride=(1, 1), padding=(1, 1))\n",
              "    (31): BatchNorm2d(512, eps=1e-05, momentum=0.1, affine=True, track_running_stats=True)\n",
              "    (32): ReLU(inplace)\n",
              "    (33): MaxPool2d(kernel_size=2, stride=2, padding=0, dilation=1, ceil_mode=False)\n",
              "    (34): Conv2d(512, 512, kernel_size=(3, 3), stride=(1, 1), padding=(1, 1))\n",
              "    (35): BatchNorm2d(512, eps=1e-05, momentum=0.1, affine=True, track_running_stats=True)\n",
              "    (36): ReLU(inplace)\n",
              "    (37): Conv2d(512, 512, kernel_size=(3, 3), stride=(1, 1), padding=(1, 1))\n",
              "    (38): BatchNorm2d(512, eps=1e-05, momentum=0.1, affine=True, track_running_stats=True)\n",
              "    (39): ReLU(inplace)\n",
              "    (40): Conv2d(512, 512, kernel_size=(3, 3), stride=(1, 1), padding=(1, 1))\n",
              "    (41): BatchNorm2d(512, eps=1e-05, momentum=0.1, affine=True, track_running_stats=True)\n",
              "    (42): ReLU(inplace)\n",
              "    (43): MaxPool2d(kernel_size=2, stride=2, padding=0, dilation=1, ceil_mode=False)\n",
              "  )\n",
              "  (avgpool): AdaptiveAvgPool2d(output_size=(7, 7))\n",
              "  (classifier): Sequential(\n",
              "    (0): Linear(in_features=25088, out_features=4096, bias=True)\n",
              "    (1): ReLU(inplace)\n",
              "    (2): Dropout(p=0.5)\n",
              "    (3): Linear(in_features=4096, out_features=4096, bias=True)\n",
              "    (4): ReLU(inplace)\n",
              "    (5): Dropout(p=0.5)\n",
              "    (6): Linear(in_features=4096, out_features=7, bias=True)\n",
              "  )\n",
              ")"
            ]
          },
          "metadata": {
            "tags": []
          },
          "execution_count": 8
        }
      ]
    },
    {
      "cell_type": "code",
      "metadata": {
        "id": "KX02ri9R_6Eo",
        "colab_type": "code",
        "colab": {}
      },
      "source": [
        "#training only the classfier\n",
        "\n",
        "for param in model.classifier.parameters():\n",
        "    param.requires_grad = True\n",
        "\n",
        "# for param in model.parameters():\n",
        "#     print(param.name, param.requires_grad)\n"
      ],
      "execution_count": 0,
      "outputs": []
    },
    {
      "cell_type": "code",
      "metadata": {
        "id": "N2ZuiFyG_6Eu",
        "colab_type": "code",
        "outputId": "0d7f5c10-1e69-417f-d118-2c1ed237c9d1",
        "colab": {
          "base_uri": "https://localhost:8080/",
          "height": 826
        }
      },
      "source": [
        "#Time to train the model\n",
        "\n",
        "#defining  variables\n",
        "epochs = 50\n",
        "no_epoch_stop = 5\n",
        "optimizer = optim.SGD(model.parameters(),lr = 0.0001,momentum = 0.8)\n",
        "scheduler = optim.lr_scheduler.StepLR(optimizer,step_size=6,gamma=0.1)\n",
        "criteria = nn.CrossEntropyLoss()\n",
        "min_valid_loss = np.Inf\n",
        "model.to(device)\n",
        "start = time.time()\n",
        "\n",
        "try :\n",
        "  \n",
        "  model.load_state_dict(torch.load('checkpoint2.pt'))\n",
        "  \n",
        "except:\n",
        "  pass\n",
        "\n",
        "try:\n",
        "  min_valid_loss = pickle.load(open('min_val2.pkl','rb'))\n",
        "except:\n",
        "  pass\n",
        "#=====================================================================\n",
        "epoch_dec = 0\n",
        "for epoch in range(epochs):\n",
        "    print('epoch {}/{}:'.format(epoch,epochs))\n",
        "    \n",
        "    train_err = 0.0\n",
        "    valid_err = 0.0\n",
        "    scheduler.step()\n",
        "    \n",
        "    #training part\n",
        "    model.train()\n",
        "    i=0# to keep track\n",
        "    for data , label in train_load:\n",
        "        \n",
        "        if (i)%500 ==0:\n",
        "            print('{}% points done'.format(i/len(train_load)*100))\n",
        "#       label = encode(label) # CEL takes batch size array with class index..no need to encode\n",
        "        label = label.long()\n",
        "        data, label = data.to(device) , label.to(device)\n",
        "        \n",
        "        optimizer.zero_grad()\n",
        "        \n",
        "        log_ps = model(data)\n",
        "\n",
        "        loss = criteria(log_ps,label)\n",
        "        \n",
        "        loss.backward()\n",
        "        optimizer.step()\n",
        "        \n",
        "        train_err += loss.item()\n",
        "        i +=1\n",
        "    \n",
        "    #validation part\n",
        "    model.eval()\n",
        "    for data , label in valid_load:\n",
        "        \n",
        "#         label = encode(label)\n",
        "        label = label.long()\n",
        "        data, label = data.to(device) , label.to(device)\n",
        "        \n",
        "        out = model(data)\n",
        "        loss = criteria(out, label)\n",
        "        \n",
        "        valid_err += loss.item()\n",
        "        \n",
        "    #avg the losses\n",
        "    \n",
        "    train_err /= len(train_load)\n",
        "    valid_err /= len(valid_load)\n",
        "    \n",
        "    if valid_err < min_valid_loss:\n",
        "        print('saving')\n",
        "        min_valid_loss = valid_err\n",
        "        pickle.dump(min_valid_loss,open('min_val2.pkl','wb'))\n",
        "        torch.save(model.state_dict(),'checkpoint2.pt')\n",
        "        epoch_dec = 0\n",
        "        \n",
        "        \n",
        "        \n",
        "    \n",
        "    else:\n",
        "        \n",
        "        epoch_dec +=1\n",
        "        print('epoch dec',epoch_dec)\n",
        "        if epoch_dec == no_epoch_stop:\n",
        "            print('early stopping')\n",
        "            model.load_state_dict(torch.load('checkpoint2.pt'))\n",
        "            break\n",
        "    \n",
        "    print('='*50)\n",
        "    print('training loss:' + str(train_err))\n",
        "    print('validation loss:' + str(valid_err))\n",
        "    print('='*50)\n",
        "        \n",
        "end_t = time.time()\n",
        "\n",
        "print('total time taken:{}'.format(end_t - start))\n",
        "        \n",
        "        \n",
        "        \n",
        "        \n",
        "\n",
        "    \n",
        "    \n"
      ],
      "execution_count": 0,
      "outputs": [
        {
          "output_type": "stream",
          "text": [
            "epoch 0/50:\n",
            "0.0% points done\n",
            "92.25092250922509% points done\n",
            "saving\n",
            "==================================================\n",
            "training loss:1.0732236695905453\n",
            "validation loss:0.9536862386524348\n",
            "==================================================\n",
            "epoch 1/50:\n",
            "0.0% points done\n",
            "92.25092250922509% points done\n",
            "epoch dec 1\n",
            "==================================================\n",
            "training loss:1.0706952701415522\n",
            "validation loss:0.9540228033592688\n",
            "==================================================\n",
            "epoch 2/50:\n",
            "0.0% points done\n",
            "92.25092250922509% points done\n",
            "epoch dec 2\n",
            "==================================================\n",
            "training loss:1.0694460222202034\n",
            "validation loss:0.9540183656123462\n",
            "==================================================\n",
            "epoch 3/50:\n",
            "0.0% points done\n",
            "92.25092250922509% points done\n",
            "epoch dec 3\n",
            "==================================================\n",
            "training loss:1.0726585052770001\n",
            "validation loss:0.9544167775475518\n",
            "==================================================\n",
            "epoch 4/50:\n",
            "0.0% points done\n",
            "92.25092250922509% points done\n",
            "epoch dec 4\n",
            "==================================================\n",
            "training loss:1.0694926543869216\n",
            "validation loss:0.9547275057813739\n",
            "==================================================\n",
            "epoch 5/50:\n",
            "0.0% points done\n",
            "92.25092250922509% points done\n",
            "epoch dec 5\n",
            "early stopping\n",
            "total time taken:2906.6634101867676\n"
          ],
          "name": "stdout"
        }
      ]
    },
    {
      "cell_type": "code",
      "metadata": {
        "id": "iFABSIjX_6E4",
        "colab_type": "code",
        "outputId": "5a5d566d-5703-41b9-cb6c-cad3aea3136e",
        "colab": {
          "base_uri": "https://localhost:8080/",
          "height": 238
        }
      },
      "source": [
        "#loading the pre-trained model\n",
        "\n",
        "model.load_state_dict(torch.load('checkpoint2.pt'))\n",
        "criteria = nn.CrossEntropyLoss()\n",
        "accuracy = 0.0\n",
        "test_loss = 0.0\n",
        "correct =0\n",
        "\n",
        "\n",
        "#checking for accuracy\n",
        "for inputs, classes in test_load:\n",
        "  inputs = inputs.to(device)\n",
        "  output = model.forward(inputs)\n",
        "  classes = classes.to(device)\n",
        "  #         test_loss += criteria(output, classes).item()\n",
        "\n",
        "  ps = torch.exp(output)\n",
        "\n",
        "  pred = output.data.max(1, keepdim=True)[1]\n",
        "  correct += pred.eq(classes.data.view_as(pred)).cpu().sum()\n",
        "#   print(correct)\n",
        "\n",
        "\n",
        "\n",
        "\n",
        "\n",
        "print(' Accuracy: {}/{} ({:.3f}%)\\n'.format(\n",
        "        correct,len(test_load.dataset), 100. * correct / len(test_load.dataset)))\n"
      ],
      "execution_count": 0,
      "outputs": [
        {
          "output_type": "error",
          "ename": "KeyboardInterrupt",
          "evalue": "ignored",
          "traceback": [
            "\u001b[0;31m---------------------------------------------------------------------------\u001b[0m",
            "\u001b[0;31mKeyboardInterrupt\u001b[0m                         Traceback (most recent call last)",
            "\u001b[0;32m<ipython-input-11-a837908c5933>\u001b[0m in \u001b[0;36m<module>\u001b[0;34m()\u001b[0m\n\u001b[1;32m     11\u001b[0m   \u001b[0minputs\u001b[0m \u001b[0;34m=\u001b[0m \u001b[0minputs\u001b[0m\u001b[0;34m.\u001b[0m\u001b[0mto\u001b[0m\u001b[0;34m(\u001b[0m\u001b[0mdevice\u001b[0m\u001b[0;34m)\u001b[0m\u001b[0;34m\u001b[0m\u001b[0;34m\u001b[0m\u001b[0m\n\u001b[1;32m     12\u001b[0m   \u001b[0moutput\u001b[0m \u001b[0;34m=\u001b[0m \u001b[0mmodel\u001b[0m\u001b[0;34m.\u001b[0m\u001b[0mforward\u001b[0m\u001b[0;34m(\u001b[0m\u001b[0minputs\u001b[0m\u001b[0;34m)\u001b[0m\u001b[0;34m\u001b[0m\u001b[0;34m\u001b[0m\u001b[0m\n\u001b[0;32m---> 13\u001b[0;31m   \u001b[0mclasses\u001b[0m \u001b[0;34m=\u001b[0m \u001b[0mclasses\u001b[0m\u001b[0;34m.\u001b[0m\u001b[0mto\u001b[0m\u001b[0;34m(\u001b[0m\u001b[0mdevice\u001b[0m\u001b[0;34m)\u001b[0m\u001b[0;34m\u001b[0m\u001b[0;34m\u001b[0m\u001b[0m\n\u001b[0m\u001b[1;32m     14\u001b[0m   \u001b[0;31m#         test_loss += criteria(output, classes).item()\u001b[0m\u001b[0;34m\u001b[0m\u001b[0;34m\u001b[0m\u001b[0;34m\u001b[0m\u001b[0m\n\u001b[1;32m     15\u001b[0m \u001b[0;34m\u001b[0m\u001b[0m\n",
            "\u001b[0;31mKeyboardInterrupt\u001b[0m: "
          ]
        }
      ]
    },
    {
      "cell_type": "code",
      "metadata": {
        "id": "BbP7mai1Gqix",
        "colab_type": "code",
        "outputId": "486920fe-ca6a-459c-da51-47106504894e",
        "colab": {
          "base_uri": "https://localhost:8080/",
          "height": 34
        }
      },
      "source": [
        "#training it on animated faces dataset for generalization\n",
        "# !unzip -u '/content/gdrive/My Drive/test2.zip' -d '/content/gdrive/My Drive/daataa2'\n",
        "# !unzip -q '/content/gdrive/My Drive/daataa2/test2/HAPPY.zip' -d  '/content/gdrive/My Drive/daataa2/test2/HAPPY'\n",
        "!ls '/content/gdrive/My Drive/daataa2/test2'\n"
      ],
      "execution_count": 0,
      "outputs": [
        {
          "output_type": "stream",
          "text": [
            "ANGRY  DISGUST\tFEAR  HAPPY  NEUTRAL  SAD  SURPRISE\n"
          ],
          "name": "stdout"
        }
      ]
    },
    {
      "cell_type": "code",
      "metadata": {
        "id": "sRPsGv2zyh9H",
        "colab_type": "code",
        "colab": {}
      },
      "source": [
        "os.chdir('/content/gdrive/My Drive/daataa2')"
      ],
      "execution_count": 0,
      "outputs": []
    },
    {
      "cell_type": "code",
      "metadata": {
        "id": "RRQfVyvurRTo",
        "colab_type": "code",
        "colab": {}
      },
      "source": [
        "#VGG takes imgs in 224 *224 size\n",
        "train_transform = transforms.Compose([transforms.RandomRotation(10),\n",
        "                                      transforms.RandomHorizontalFlip(),\n",
        "                                      transforms.Resize(224),\n",
        "                                      transforms.ToTensor(),                                      \n",
        "                                      transforms.Normalize(mean=[0.485, 0.456, 0.406], \\\n",
        "                                                           std=[.229, 0.224, 0.225])])\n",
        "\n",
        "test_transform = transforms.Compose([transforms.Resize(224),\n",
        "                                     transforms.ToTensor(),\n",
        "                                     transforms.Normalize(mean=[0.485, 0.456, 0.406], \\\n",
        "                                                           std=[.229, 0.224, 0.225])])\n"
      ],
      "execution_count": 0,
      "outputs": []
    },
    {
      "cell_type": "code",
      "metadata": {
        "id": "UrzkO9jhrYuv",
        "colab_type": "code",
        "outputId": "a015d6ac-47b8-4993-b09c-82681c4186fe",
        "colab": {
          "base_uri": "https://localhost:8080/",
          "height": 34
        }
      },
      "source": [
        "from copy import copy\n",
        "shuffle_dataset = True\n",
        "random_seed = 55\n",
        "validation_split = 0.1\n",
        "test_split = 0.2\n",
        "\n",
        "IMG_PATH = os.getcwd() + '/test2'\n",
        "total_dataset = datasets.ImageFolder(IMG_PATH,transform=train_transform)\n",
        "# try_load = DataLoader(try_dataset,shuffle=True,num_workers=0,batch_size=1)\n",
        "        \n",
        "len_tot = total_dataset.__len__()\n",
        "test_len = int(len_tot * test_split)\n",
        "\n",
        "train_data , test_data = random_split(total_dataset,[len_tot - test_len,test_len])\n",
        "train_data , valid_data = random_split(train_data,[train_data.__len__() - test_len , test_len ])\n",
        "\n",
        "train_data.dataset.transform = train_transform\n",
        "# valid_data.dataset.transform = test_transform\n",
        "# test_data.dataset.transform = test_transform\n",
        "\n",
        "train_data.__len__()"
      ],
      "execution_count": 0,
      "outputs": [
        {
          "output_type": "execute_result",
          "data": {
            "text/plain": [
              "33460"
            ]
          },
          "metadata": {
            "tags": []
          },
          "execution_count": 14
        }
      ]
    },
    {
      "cell_type": "code",
      "metadata": {
        "id": "vIXLtEhGrie0",
        "colab_type": "code",
        "colab": {}
      },
      "source": [
        "#creating datsets and dataloaders\n",
        "\n",
        "batch_size = 40\n",
        "\n",
        "# train_sampler = SubsetRandomSampler(train_indices)\n",
        "# test_sampler = SubsetRandomSampler(test_indices)\n",
        "# valid_sampler = SubsetRandomSampler(valid_indices)\n",
        "\n",
        "train_load = DataLoader(train_data, batch_size=batch_size,num_workers=12)\n",
        "# valid_load = DataLoader(valid_data, batch_size=batch_size,num_workers=10)\n",
        "# test_load = DataLoader(test_data, batch_size=batch_size,num_workers=10)\n",
        "\n",
        "a,b =  next(iter(train_load))"
      ],
      "execution_count": 0,
      "outputs": []
    },
    {
      "cell_type": "code",
      "metadata": {
        "id": "86ayiqzsrmZb",
        "colab_type": "code",
        "outputId": "b92c6d13-9c97-4062-ef72-852e8802476e",
        "colab": {
          "base_uri": "https://localhost:8080/",
          "height": 34
        }
      },
      "source": [
        "#This is used to one hot encode the labels during training - NOT NEEDED\n",
        "# idx = b\n",
        "# idx.unsqueeze(1)\n",
        "def encode(arr):\n",
        "    \n",
        "    return torch.zeros(len(arr), arr.max()+1).scatter_(1, arr.unsqueeze(1), 1.)\n",
        "\n",
        "    \n",
        "class_names = total_dataset.classes\n",
        "class_names"
      ],
      "execution_count": 0,
      "outputs": [
        {
          "output_type": "execute_result",
          "data": {
            "text/plain": [
              "['ANGRY', 'DISGUST', 'FEAR', 'HAPPY', 'NEUTRAL', 'SAD', 'SURPRISE']"
            ]
          },
          "metadata": {
            "tags": []
          },
          "execution_count": 14
        }
      ]
    },
    {
      "cell_type": "code",
      "metadata": {
        "id": "64MOAHA1rrHw",
        "colab_type": "code",
        "outputId": "bb47107c-f644-4722-be34-299b658048af",
        "colab": {
          "base_uri": "https://localhost:8080/",
          "height": 1000
        }
      },
      "source": [
        "#load VGG16_bn model - this one finally worked\n",
        "model = models.vgg16_bn(pretrained=True)\n",
        "\n",
        "#freezing the weights\n",
        "for param in model.parameters():\n",
        "    param.requires_grad = False\n",
        "\n",
        "#modifying the last layer\n",
        "num_in = model.classifier[6].in_features\n",
        "features = list(model.classifier.children())[:-1] # take all but last layer\n",
        "features.extend([nn.Linear(num_in,len(class_names))])#custom last layer\n",
        "model.classifier = nn.Sequential(*features)# attaching it back to classifier\n",
        "\n",
        "#training only the classfier\n",
        "\n",
        "for param in model.classifier.parameters():\n",
        "    param.requires_grad = True\n",
        "\n",
        "# for param in model.parameters():\n",
        "#     print(param.name, param.requires_grad)\n",
        "\n",
        "model.to(device)\n"
      ],
      "execution_count": 0,
      "outputs": [
        {
          "output_type": "stream",
          "text": [
            "Downloading: \"https://download.pytorch.org/models/vgg16_bn-6c64b313.pth\" to /root/.cache/torch/checkpoints/vgg16_bn-6c64b313.pth\n",
            "100%|██████████| 553507836/553507836 [00:05<00:00, 100581150.98it/s]\n"
          ],
          "name": "stderr"
        },
        {
          "output_type": "execute_result",
          "data": {
            "text/plain": [
              "VGG(\n",
              "  (features): Sequential(\n",
              "    (0): Conv2d(3, 64, kernel_size=(3, 3), stride=(1, 1), padding=(1, 1))\n",
              "    (1): BatchNorm2d(64, eps=1e-05, momentum=0.1, affine=True, track_running_stats=True)\n",
              "    (2): ReLU(inplace)\n",
              "    (3): Conv2d(64, 64, kernel_size=(3, 3), stride=(1, 1), padding=(1, 1))\n",
              "    (4): BatchNorm2d(64, eps=1e-05, momentum=0.1, affine=True, track_running_stats=True)\n",
              "    (5): ReLU(inplace)\n",
              "    (6): MaxPool2d(kernel_size=2, stride=2, padding=0, dilation=1, ceil_mode=False)\n",
              "    (7): Conv2d(64, 128, kernel_size=(3, 3), stride=(1, 1), padding=(1, 1))\n",
              "    (8): BatchNorm2d(128, eps=1e-05, momentum=0.1, affine=True, track_running_stats=True)\n",
              "    (9): ReLU(inplace)\n",
              "    (10): Conv2d(128, 128, kernel_size=(3, 3), stride=(1, 1), padding=(1, 1))\n",
              "    (11): BatchNorm2d(128, eps=1e-05, momentum=0.1, affine=True, track_running_stats=True)\n",
              "    (12): ReLU(inplace)\n",
              "    (13): MaxPool2d(kernel_size=2, stride=2, padding=0, dilation=1, ceil_mode=False)\n",
              "    (14): Conv2d(128, 256, kernel_size=(3, 3), stride=(1, 1), padding=(1, 1))\n",
              "    (15): BatchNorm2d(256, eps=1e-05, momentum=0.1, affine=True, track_running_stats=True)\n",
              "    (16): ReLU(inplace)\n",
              "    (17): Conv2d(256, 256, kernel_size=(3, 3), stride=(1, 1), padding=(1, 1))\n",
              "    (18): BatchNorm2d(256, eps=1e-05, momentum=0.1, affine=True, track_running_stats=True)\n",
              "    (19): ReLU(inplace)\n",
              "    (20): Conv2d(256, 256, kernel_size=(3, 3), stride=(1, 1), padding=(1, 1))\n",
              "    (21): BatchNorm2d(256, eps=1e-05, momentum=0.1, affine=True, track_running_stats=True)\n",
              "    (22): ReLU(inplace)\n",
              "    (23): MaxPool2d(kernel_size=2, stride=2, padding=0, dilation=1, ceil_mode=False)\n",
              "    (24): Conv2d(256, 512, kernel_size=(3, 3), stride=(1, 1), padding=(1, 1))\n",
              "    (25): BatchNorm2d(512, eps=1e-05, momentum=0.1, affine=True, track_running_stats=True)\n",
              "    (26): ReLU(inplace)\n",
              "    (27): Conv2d(512, 512, kernel_size=(3, 3), stride=(1, 1), padding=(1, 1))\n",
              "    (28): BatchNorm2d(512, eps=1e-05, momentum=0.1, affine=True, track_running_stats=True)\n",
              "    (29): ReLU(inplace)\n",
              "    (30): Conv2d(512, 512, kernel_size=(3, 3), stride=(1, 1), padding=(1, 1))\n",
              "    (31): BatchNorm2d(512, eps=1e-05, momentum=0.1, affine=True, track_running_stats=True)\n",
              "    (32): ReLU(inplace)\n",
              "    (33): MaxPool2d(kernel_size=2, stride=2, padding=0, dilation=1, ceil_mode=False)\n",
              "    (34): Conv2d(512, 512, kernel_size=(3, 3), stride=(1, 1), padding=(1, 1))\n",
              "    (35): BatchNorm2d(512, eps=1e-05, momentum=0.1, affine=True, track_running_stats=True)\n",
              "    (36): ReLU(inplace)\n",
              "    (37): Conv2d(512, 512, kernel_size=(3, 3), stride=(1, 1), padding=(1, 1))\n",
              "    (38): BatchNorm2d(512, eps=1e-05, momentum=0.1, affine=True, track_running_stats=True)\n",
              "    (39): ReLU(inplace)\n",
              "    (40): Conv2d(512, 512, kernel_size=(3, 3), stride=(1, 1), padding=(1, 1))\n",
              "    (41): BatchNorm2d(512, eps=1e-05, momentum=0.1, affine=True, track_running_stats=True)\n",
              "    (42): ReLU(inplace)\n",
              "    (43): MaxPool2d(kernel_size=2, stride=2, padding=0, dilation=1, ceil_mode=False)\n",
              "  )\n",
              "  (avgpool): AdaptiveAvgPool2d(output_size=(7, 7))\n",
              "  (classifier): Sequential(\n",
              "    (0): Linear(in_features=25088, out_features=4096, bias=True)\n",
              "    (1): ReLU(inplace)\n",
              "    (2): Dropout(p=0.5)\n",
              "    (3): Linear(in_features=4096, out_features=4096, bias=True)\n",
              "    (4): ReLU(inplace)\n",
              "    (5): Dropout(p=0.5)\n",
              "    (6): Linear(in_features=4096, out_features=7, bias=True)\n",
              "  )\n",
              ")"
            ]
          },
          "metadata": {
            "tags": []
          },
          "execution_count": 15
        }
      ]
    },
    {
      "cell_type": "code",
      "metadata": {
        "id": "Yuh1zaVVr0BM",
        "colab_type": "code",
        "outputId": "cf259d65-e969-4f8d-b643-c9159f5c87f1",
        "colab": {
          "base_uri": "https://localhost:8080/",
          "height": 1000
        }
      },
      "source": [
        "\n",
        "#defining  variables\n",
        "epochs = 20\n",
        "no_epoch_stop = 5\n",
        "optimizer = optim.SGD(model.parameters(),lr = 0.0001,momentum = 0.8)\n",
        "scheduler = optim.lr_scheduler.StepLR(optimizer,step_size=6,gamma=0.1)\n",
        "criteria = nn.CrossEntropyLoss()\n",
        "min_valid_loss = np.Inf\n",
        "model.to(device)\n",
        "start = time.time()\n",
        "\n",
        "# try :\n",
        "  \n",
        "#   model.load_state_dict(torch.load('checkpoint.pt'))\n",
        "  \n",
        "# except:\n",
        "#   pass\n",
        "\n",
        "# try:\n",
        "#   min_valid_loss = pickle.load(open('min_val.pkl','rb'))\n",
        "# except:\n",
        "#   pass\n",
        "#=====================================================================\n",
        "epoch_dec = 0\n",
        "for epoch in range(epochs):\n",
        "    print('epoch {}/{}:'.format(epoch,epochs))\n",
        "    \n",
        "    train_err = 0.0\n",
        "    valid_err = 0.0\n",
        "    scheduler.step()\n",
        "    \n",
        "    #training part\n",
        "    model.train()\n",
        "    i=0# to keep track\n",
        "    for data , label in train_load:\n",
        "        \n",
        "        if (i)%500 ==0:\n",
        "            print('{}% points done'.format(i/len(train_load)*100))\n",
        "#       label = encode(label) # CEL takes batch size array with class index..no need to encode\n",
        "        label = label.long()\n",
        "        data, label = data.to(device) , label.to(device)\n",
        "        \n",
        "        optimizer.zero_grad()\n",
        "        \n",
        "        log_ps = model(data)\n",
        "\n",
        "        loss = criteria(log_ps,label)\n",
        "        \n",
        "        loss.backward()\n",
        "        optimizer.step()\n",
        "        \n",
        "        train_err += loss.item()\n",
        "        i +=1\n",
        "    \n",
        "    #validation part\n",
        "    model.eval()\n",
        "    for data , label in valid_load:\n",
        "        \n",
        "#         label = encode(label)\n",
        "        label = label.long()\n",
        "        data, label = data.to(device) , label.to(device)\n",
        "        \n",
        "        out = model(data)\n",
        "        loss = criteria(out, label)\n",
        "        \n",
        "        valid_err += loss.item()\n",
        "        \n",
        "    #avg the losses\n",
        "    \n",
        "    train_err /= len(train_load)\n",
        "    valid_err /= len(valid_load)\n",
        "    \n",
        "    if valid_err < min_valid_loss:\n",
        "        print('saving')\n",
        "        min_valid_loss = valid_err\n",
        "        pickle.dump(min_valid_loss,open('min_val.pkl','wb'))\n",
        "        torch.save(model.state_dict(),'checkpoint.pt')\n",
        "        epoch_dec = 0\n",
        "        \n",
        "        \n",
        "        \n",
        "    \n",
        "    else:\n",
        "        \n",
        "        epoch_dec +=1\n",
        "        print('epoch dec',epoch_dec)\n",
        "        if epoch_dec == no_epoch_stop:\n",
        "            print('early stopping')\n",
        "            model.load_state_dict(torch.load('checkpoint.pt'))\n",
        "            break\n",
        "    \n",
        "    print('='*50)\n",
        "    print('training loss:' + str(train_err))\n",
        "    print('validation loss:' + str(valid_err))\n",
        "    print('='*50)\n",
        "        \n",
        "end_t = time.time()\n",
        "\n",
        "print('total time taken:{}'.format(end_t - start))\n",
        "        \n",
        "        "
      ],
      "execution_count": 0,
      "outputs": [
        {
          "output_type": "stream",
          "text": [
            "epoch 0/20:\n",
            "0.0% points done\n",
            "59.737156511350065% points done\n",
            "saving\n",
            "==================================================\n",
            "training loss:0.2805116270160305\n",
            "validation loss:0.09720499137930545\n",
            "==================================================\n",
            "epoch 1/20:\n",
            "0.0% points done\n",
            "59.737156511350065% points done\n",
            "saving\n",
            "==================================================\n",
            "training loss:0.12129087339343421\n",
            "validation loss:0.04653388012774742\n",
            "==================================================\n",
            "epoch 2/20:\n",
            "0.0% points done\n",
            "59.737156511350065% points done\n",
            "saving\n",
            "==================================================\n",
            "training loss:0.07584682585428977\n",
            "validation loss:0.02810248809676337\n",
            "==================================================\n",
            "epoch 3/20:\n",
            "0.0% points done\n",
            "59.737156511350065% points done\n",
            "saving\n",
            "==================================================\n",
            "training loss:0.053757787220349164\n",
            "validation loss:0.01919593255112355\n",
            "==================================================\n",
            "epoch 4/20:\n",
            "0.0% points done\n",
            "59.737156511350065% points done\n",
            "saving\n",
            "==================================================\n",
            "training loss:0.041834415613118396\n",
            "validation loss:0.014032140447621277\n",
            "==================================================\n",
            "epoch 5/20:\n",
            "0.0% points done\n",
            "59.737156511350065% points done\n",
            "saving\n",
            "==================================================\n",
            "training loss:0.03668964199672855\n",
            "validation loss:0.013636892464505942\n",
            "==================================================\n",
            "epoch 6/20:\n",
            "0.0% points done\n",
            "59.737156511350065% points done\n",
            "saving\n",
            "==================================================\n",
            "training loss:0.03553201059789676\n",
            "validation loss:0.013234882784079373\n",
            "==================================================\n",
            "epoch 7/20:\n",
            "0.0% points done\n",
            "59.737156511350065% points done\n",
            "saving\n",
            "==================================================\n",
            "training loss:0.03520254031927497\n",
            "validation loss:0.012857862290889558\n",
            "==================================================\n",
            "epoch 8/20:\n",
            "0.0% points done\n"
          ],
          "name": "stdout"
        },
        {
          "output_type": "stream",
          "text": [
            "Traceback (most recent call last):\n",
            "  File \"/usr/lib/python3.6/multiprocessing/queues.py\", line 240, in _feed\n",
            "    send_bytes(obj)\n",
            "  File \"/usr/lib/python3.6/multiprocessing/connection.py\", line 200, in send_bytes\n",
            "    self._send_bytes(m[offset:offset + size])\n",
            "  File \"/usr/lib/python3.6/multiprocessing/connection.py\", line 404, in _send_bytes\n",
            "    self._send(header + buf)\n",
            "  File \"/usr/lib/python3.6/multiprocessing/connection.py\", line 368, in _send\n",
            "    n = write(self._handle, buf)\n",
            "BrokenPipeError: [Errno 32] Broken pipe\n",
            "Traceback (most recent call last):\n",
            "Traceback (most recent call last):\n",
            "  File \"/usr/lib/python3.6/multiprocessing/queues.py\", line 240, in _feed\n",
            "    send_bytes(obj)\n",
            "  File \"/usr/lib/python3.6/multiprocessing/queues.py\", line 240, in _feed\n",
            "    send_bytes(obj)\n",
            "  File \"/usr/lib/python3.6/multiprocessing/connection.py\", line 200, in send_bytes\n",
            "    self._send_bytes(m[offset:offset + size])\n",
            "  File \"/usr/lib/python3.6/multiprocessing/connection.py\", line 200, in send_bytes\n",
            "    self._send_bytes(m[offset:offset + size])\n",
            "  File \"/usr/lib/python3.6/multiprocessing/connection.py\", line 404, in _send_bytes\n",
            "    self._send(header + buf)\n",
            "  File \"/usr/lib/python3.6/multiprocessing/connection.py\", line 368, in _send\n",
            "    n = write(self._handle, buf)\n",
            "BrokenPipeError: [Errno 32] Broken pipe\n",
            "  File \"/usr/lib/python3.6/multiprocessing/connection.py\", line 404, in _send_bytes\n",
            "    self._send(header + buf)\n",
            "  File \"/usr/lib/python3.6/multiprocessing/connection.py\", line 368, in _send\n",
            "    n = write(self._handle, buf)\n",
            "BrokenPipeError: [Errno 32] Broken pipe\n"
          ],
          "name": "stderr"
        },
        {
          "output_type": "error",
          "ename": "KeyboardInterrupt",
          "evalue": "ignored",
          "traceback": [
            "\u001b[0;31m---------------------------------------------------------------------------\u001b[0m",
            "\u001b[0;31mKeyboardInterrupt\u001b[0m                         Traceback (most recent call last)",
            "\u001b[0;32m<ipython-input-17-2ef5794e6fbe>\u001b[0m in \u001b[0;36m<module>\u001b[0;34m()\u001b[0m\n\u001b[1;32m     48\u001b[0m         \u001b[0moptimizer\u001b[0m\u001b[0;34m.\u001b[0m\u001b[0mstep\u001b[0m\u001b[0;34m(\u001b[0m\u001b[0;34m)\u001b[0m\u001b[0;34m\u001b[0m\u001b[0;34m\u001b[0m\u001b[0m\n\u001b[1;32m     49\u001b[0m \u001b[0;34m\u001b[0m\u001b[0m\n\u001b[0;32m---> 50\u001b[0;31m         \u001b[0mtrain_err\u001b[0m \u001b[0;34m+=\u001b[0m \u001b[0mloss\u001b[0m\u001b[0;34m.\u001b[0m\u001b[0mitem\u001b[0m\u001b[0;34m(\u001b[0m\u001b[0;34m)\u001b[0m\u001b[0;34m\u001b[0m\u001b[0;34m\u001b[0m\u001b[0m\n\u001b[0m\u001b[1;32m     51\u001b[0m         \u001b[0mi\u001b[0m \u001b[0;34m+=\u001b[0m\u001b[0;36m1\u001b[0m\u001b[0;34m\u001b[0m\u001b[0;34m\u001b[0m\u001b[0m\n\u001b[1;32m     52\u001b[0m \u001b[0;34m\u001b[0m\u001b[0m\n",
            "\u001b[0;31mKeyboardInterrupt\u001b[0m: "
          ]
        }
      ]
    },
    {
      "cell_type": "code",
      "metadata": {
        "id": "vzS6JwqcSgTl",
        "colab_type": "code",
        "outputId": "c8661bc2-4b31-4334-e4d9-f2411f5b4a65",
        "colab": {
          "base_uri": "https://localhost:8080/",
          "height": 393
        }
      },
      "source": [
        "#loading the pre-trained model\n",
        "\n",
        "model.load_state_dict(torch.load('checkpoint.pt'))\n",
        "criteria = nn.CrossEntropyLoss()\n",
        "accuracy = 0.0\n",
        "test_loss = 0.0\n",
        "correct =0\n",
        "\n",
        "\n",
        "#checking for accuracy\n",
        "for inputs, classes in test_load:\n",
        "  inputs = inputs.to(device)\n",
        "  output = model.forward(inputs)\n",
        "  classes = classes.to(device)\n",
        "  #         test_loss += criteria(output, classes).item()\n",
        "\n",
        "  ps = torch.exp(output)\n",
        "\n",
        "  pred = output.data.max(1, keepdim=True)[1]\n",
        "  correct += pred.eq(classes.data.view_as(pred)).cpu().sum()\n",
        "#   print(correct)\n",
        "\n",
        "\n",
        "\n",
        "\n",
        "\n",
        "print(' Accuracy: {}/{} ({:.3f}%)\\n'.format(\n",
        "        correct,len(test_load.dataset), 100. * correct / len(test_load.dataset)))"
      ],
      "execution_count": 0,
      "outputs": [
        {
          "output_type": "error",
          "ename": "RuntimeError",
          "evalue": "ignored",
          "traceback": [
            "\u001b[0;31m---------------------------------------------------------------------------\u001b[0m",
            "\u001b[0;31mRuntimeError\u001b[0m                              Traceback (most recent call last)",
            "\u001b[0;32m<ipython-input-69-c2a8275a7c85>\u001b[0m in \u001b[0;36m<module>\u001b[0;34m()\u001b[0m\n\u001b[1;32m      1\u001b[0m \u001b[0;34m\u001b[0m\u001b[0m\n\u001b[0;32m----> 2\u001b[0;31m \u001b[0mmodel\u001b[0m\u001b[0;34m.\u001b[0m\u001b[0mload_state_dict\u001b[0m\u001b[0;34m(\u001b[0m\u001b[0mtorch\u001b[0m\u001b[0;34m.\u001b[0m\u001b[0mload\u001b[0m\u001b[0;34m(\u001b[0m\u001b[0;34m'checkpoint.pt'\u001b[0m\u001b[0;34m)\u001b[0m\u001b[0;34m)\u001b[0m\u001b[0;34m\u001b[0m\u001b[0;34m\u001b[0m\u001b[0m\n\u001b[0m\u001b[1;32m      3\u001b[0m \u001b[0mcriteria\u001b[0m \u001b[0;34m=\u001b[0m \u001b[0mnn\u001b[0m\u001b[0;34m.\u001b[0m\u001b[0mCrossEntropyLoss\u001b[0m\u001b[0;34m(\u001b[0m\u001b[0;34m)\u001b[0m\u001b[0;34m\u001b[0m\u001b[0;34m\u001b[0m\u001b[0m\n\u001b[1;32m      4\u001b[0m \u001b[0maccuracy\u001b[0m \u001b[0;34m=\u001b[0m \u001b[0;36m0.0\u001b[0m\u001b[0;34m\u001b[0m\u001b[0;34m\u001b[0m\u001b[0m\n\u001b[1;32m      5\u001b[0m \u001b[0mtest_loss\u001b[0m \u001b[0;34m=\u001b[0m \u001b[0;36m0.0\u001b[0m\u001b[0;34m\u001b[0m\u001b[0;34m\u001b[0m\u001b[0m\n",
            "\u001b[0;32m/usr/local/lib/python3.6/dist-packages/torch/nn/modules/module.py\u001b[0m in \u001b[0;36mload_state_dict\u001b[0;34m(self, state_dict, strict)\u001b[0m\n\u001b[1;32m    775\u001b[0m         \u001b[0;32mif\u001b[0m \u001b[0mlen\u001b[0m\u001b[0;34m(\u001b[0m\u001b[0merror_msgs\u001b[0m\u001b[0;34m)\u001b[0m \u001b[0;34m>\u001b[0m \u001b[0;36m0\u001b[0m\u001b[0;34m:\u001b[0m\u001b[0;34m\u001b[0m\u001b[0;34m\u001b[0m\u001b[0m\n\u001b[1;32m    776\u001b[0m             raise RuntimeError('Error(s) in loading state_dict for {}:\\n\\t{}'.format(\n\u001b[0;32m--> 777\u001b[0;31m                                self.__class__.__name__, \"\\n\\t\".join(error_msgs)))\n\u001b[0m\u001b[1;32m    778\u001b[0m         \u001b[0;32mreturn\u001b[0m \u001b[0m_IncompatibleKeys\u001b[0m\u001b[0;34m(\u001b[0m\u001b[0mmissing_keys\u001b[0m\u001b[0;34m,\u001b[0m \u001b[0munexpected_keys\u001b[0m\u001b[0;34m)\u001b[0m\u001b[0;34m\u001b[0m\u001b[0;34m\u001b[0m\u001b[0m\n\u001b[1;32m    779\u001b[0m \u001b[0;34m\u001b[0m\u001b[0m\n",
            "\u001b[0;31mRuntimeError\u001b[0m: Error(s) in loading state_dict for VGG:\n\tsize mismatch for classifier.6.weight: copying a param with shape torch.Size([7, 4096]) from checkpoint, the shape in current model is torch.Size([6, 4096]).\n\tsize mismatch for classifier.6.bias: copying a param with shape torch.Size([7]) from checkpoint, the shape in current model is torch.Size([6])."
          ]
        }
      ]
    },
    {
      "cell_type": "code",
      "metadata": {
        "id": "Ez5Mw81moJ9D",
        "colab_type": "code",
        "colab": {}
      },
      "source": [
        ""
      ],
      "execution_count": 0,
      "outputs": []
    }
  ]
}